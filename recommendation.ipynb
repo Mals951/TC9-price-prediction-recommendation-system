{
  "nbformat": 4,
  "nbformat_minor": 0,
  "metadata": {
    "colab": {
      "provenance": []
    },
    "kernelspec": {
      "name": "python3",
      "display_name": "Python 3"
    },
    "language_info": {
      "name": "python"
    }
  },
  "cells": [
    {
      "cell_type": "markdown",
      "source": [
        "Ici nous mettons en place un petit système de recommendation, nous aurions pu aller plus loin que cela avec un meilleur dataset mais en utilisant celui-ci nous avons pu créer un systeme de calcul de similarités, c'est a dire que nous supposons que les lignes de notre dataset sont des annonces présentes dans les favoris de personnes random, et lorsqu'on a une nouvelle annonce on calcule le degrés de similarité qu'elle a avec les annonces en favoris. Si une personne a l'une des annonces avec forte similarité elle se verra recevoir l'annonce sur son feed."
      ],
      "metadata": {
        "id": "5UUOKpjiKE_6"
      }
    },
    {
      "cell_type": "code",
      "execution_count": 4,
      "metadata": {
        "id": "oBN20cBzfD9L"
      },
      "outputs": [],
      "source": [
        "\n",
        "#Import Depends \n",
        "import pandas as pd\n",
        "import numpy as np\n",
        "import difflib\n",
        "from sklearn.preprocessing import StandardScaler\n",
        "from sklearn.metrics.pairwise import cosine_similarity\n",
        "from sklearn.preprocessing import OrdinalEncoder"
      ]
    },
    {
      "cell_type": "code",
      "source": [
        "cars = pd.read_csv('Car details v3.csv')"
      ],
      "metadata": {
        "id": "fVJXQh3AwJ4B"
      },
      "execution_count": 5,
      "outputs": []
    },
    {
      "cell_type": "code",
      "source": [
        "cars.info()"
      ],
      "metadata": {
        "id": "rm6gfn_UAV91"
      },
      "execution_count": null,
      "outputs": []
    },
    {
      "cell_type": "code",
      "source": [
        "df=cars.drop(['selling_price','km_driven','fuel', 'seller_type','transmission', 'mileage', 'torque', 'seats', 'owner'], axis=1)"
      ],
      "metadata": {
        "id": "lSCHJnomBZZq"
      },
      "execution_count": 7,
      "outputs": []
    },
    {
      "cell_type": "code",
      "source": [
        "df['maison']=[x.split()[0] for x in df['name']]\n",
        "df.drop('name',axis=1, inplace=True)\n",
        "df.engine.fillna(df.engine.mean(), inplace=True)\n",
        "df.max_power.fillna(df.max_power.mean(), inplace=True)"
      ],
      "metadata": {
        "id": "RAQB8jbaCqRa"
      },
      "execution_count": 8,
      "outputs": []
    },
    {
      "cell_type": "code",
      "source": [
        "s=(df.dtypes == 'object')\n",
        "object_cols=list(s[s].index)\n",
        "print(object_cols)\n",
        "enc=OrdinalEncoder()\n",
        "df[object_cols]= enc.fit_transform(df[object_cols])"
      ],
      "metadata": {
        "id": "s73aMYoTF-oR"
      },
      "execution_count": null,
      "outputs": []
    },
    {
      "cell_type": "code",
      "source": [
        "scaler=StandardScaler()\n",
        "scaled=scaler.fit_transform(df) "
      ],
      "metadata": {
        "id": "yMMDMk44WEJ0"
      },
      "execution_count": 13,
      "outputs": []
    },
    {
      "cell_type": "code",
      "source": [
        "similarities=np.empty([scaled.shape[0],scaled.shape[0]])\n",
        "for i in range(scaled.shape[0]):\n",
        "  for j in range(scaled.shape[0]):\n",
        "    input_un = scaled[i]\n",
        "    input_deux = scaled[j]\n",
        "    reshaped_un = input_un.reshape(1,-1)\n",
        "    reshaped_deux = input_deux.reshape(1,-1)\n",
        "    similarity  = cosine_similarity(reshaped_un, reshaped_deux)\n",
        "    similarities[i,j] = similarity\n",
        "similarities\n"
      ],
      "metadata": {
        "id": "4SFp1CGTLgc8"
      },
      "execution_count": null,
      "outputs": []
    }
  ]
}